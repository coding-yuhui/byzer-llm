{
 "cells": [
  {
   "cell_type": "code",
   "execution_count": null,
   "id": "initial_id",
   "metadata": {
    "collapsed": true
   },
   "outputs": [],
   "source": [
    "import ray\n",
    "\n",
    "ray.init(\"ray://172.16.10.245:10001\", namespace=\"default\", ignore_reinit_error=True)"
   ]
  },
  {
   "cell_type": "code",
   "execution_count": 55,
   "outputs": [
    {
     "name": "stdout",
     "output_type": "stream",
     "text": [
      "User:Analyze and summarize the following goals according to the specified format and requirements:\n",
      "\n",
      "```json\n",
      "{\"name\":\"净利润达到去年的1.5倍 | Net Profit Reach 1.5 Times of Last Year\",\"metric\":\"净利润｜Net Profit - Retail\",\"target_value\":\"$5M\",\"current_value\":\"$3.74M\",\"sub_goals\":[{\"name\":\"提升总销售额 | Increase Total Sales\",\"metric\":\"总销售额｜Total Sales - Retail\",\"target_value\":\"$50M\",\"current_value\":\"$34.67M\",\"sub_goals\":[{\"name\":\"提升总交易量 | Increase Total Transactions\",\"metric\":\"总交易量｜Total Transactions - Retail\",\"target_value\":\"20K\",\"current_value\":\"9994\",\"sub_goals\":[{\"name\":\"提高连带率 | Improve Average Basket Size\",\"metric\":\"连带率｜Average Basket Size - Retail\",\"target_value\":\"3\",\"current_value\":\"2\",\"sub_goals\":[],\"historical_data\":{\"metas\":[{\"name\":\"ORDER_DATE\",\"data_type\":\"DATE\"},{\"name\":\"Average Basket Size\",\"data_type\":\"DOUBLE\"}],\"datas\":[[\"2018-12-30\",\"2.0\"],[\"2018-12-29\",\"3.25\"],[\"2018-12-28\",\"3.263157894736842\"],[\"2018-12-27\",\"2.5\"],[\"2018-12-26\",\"2.5\"],[\"2018-12-25\",\"3.0\"],[\"2018-12-24\",\"3.1875\"]]}}],\"historical_data\":{\"metas\":[{\"name\":\"Total Transactions\",\"data_type\":\"BIGINT\"}],\"datas\":[[\"9994\"]]}}],\"historical_data\":{\"metas\":[{\"name\":\"Total Sales\",\"data_type\":\"DOUBLE\"}],\"datas\":[[\"3.467849158328247E7\"]]}},{\"name\":\"提高净利润率 ｜ Improve Net Profit Margin\",\"metric\":\"净利润率｜Net Profit Margin - Retail\",\"target_value\":\"0.2\",\"current_value\":\"0.15\",\"sub_goals\":[{\"name\":\"提高客单利润 | Improve Average Transaction Revenue\",\"metric\":\"客单利润｜Average Transaction Revenue - Retail\",\"target_value\":\"400\",\"current_value\":\"355.31\",\"sub_goals\":[],\"historical_data\":{\"metas\":[{\"name\":\"ORDER_DATE\",\"data_type\":\"DATE\"},{\"name\":\"Average Transaction Revenue\",\"data_type\":\"DOUBLE\"}],\"datas\":[[\"2018-12-30\",\"355.31856427873885\"],[\"2018-12-29\",\"438.21582794189453\"],[\"2018-12-28\",\"370.85315704345703\"],[\"2018-12-27\",\"468.9849967956543\"],[\"2018-12-26\",\"299.8675003051758\"],[\"2018-12-25\",\"295.8552194678265\"],[\"2018-12-24\",\"397.4099998474121\"]]}},{\"name\":\"提高件单利润 | Improve Average Unit Revenue\",\"metric\":\"件单利润｜Average Unit Revenue - Retail\",\"target_value\":\"400\",\"current_value\":\"177.65\",\"sub_goals\":[],\"historical_data\":{\"metas\":[{\"name\":\"ORDER_DATE\",\"data_type\":\"DATE\"},{\"name\":\"Average Unit Revenue\",\"data_type\":\"DOUBLE\"}],\"datas\":[[\"2018-12-30\",\"177.65928213936942\"],[\"2018-12-29\",\"134.83563936673679\"],[\"2018-12-28\",\"113.6485481262207\"],[\"2018-12-27\",\"187.59399871826173\"],[\"2018-12-26\",\"119.9470001220703\"],[\"2018-12-25\",\"98.6184064892755\"],[\"2018-12-24\",\"124.67764701095282\"]]}}],\"historical_data\":{\"metas\":[{\"name\":\"ORDER_DATE\",\"data_type\":\"DATE\"},{\"name\":\"Net Profit Margin\",\"data_type\":\"DOUBLE\"}],\"datas\":[[\"2018-12-30\",\"0.15226701257885053\"],[\"2018-12-29\",\"0.12152101624133606\"],[\"2018-12-28\",\"0.1049904901683477\"],[\"2018-12-27\",\"0.14047313069012737\"],[\"2018-12-26\",\"0.12110243293542682\"],[\"2018-12-25\",\"0.08410361004465777\"],[\"2018-12-24\",\"0.09998325263566901\"]]}}],\"historical_data\":{\"metas\":[{\"name\":\"Net Profit\",\"data_type\":\"DOUBLE\"}],\"datas\":[[\"3747121.199651718\"]]}}\n",
      "```\n",
      "\n",
      "It is necessary to distinguish between positive goals and negative goals in the analysis and summary process!!!\n",
      "\n",
      "Answer Require:\n",
      "- FORBIDDEN to modify or falsify any data, and the data provided in Goal json MUST be used for analysis and summary\n",
      "- Output the report in MARKDOWN format.\n",
      "- Use chinese answer\n",
      "- 每个部分要一步一步详细进行分析，确保你的报告是正确且权威的\n",
      "- Based on the authoritative opinions of the following experts:  你的建议需要考虑全面，分成三个方面提出：1.经济方面;2.团队方面;3.成本方面\n",
      "\n",
      "\n",
      "\n",
      "Answer Format: \n",
      "```markdown \n",
      "## 目标总结报告\n",
      "\n",
      "### 整体进展分析\n",
      "// Make an overall analysis and summary of goal \"净利润达到去年的1.5倍 | Net Profit Reach 1.5 Times of Last Year\" and its sub-goals [\"提升总销售额 | Increase Total Sales\", \"提高净利润率 ｜ Improve Net Profit Margin\"], and judge the development trend based on historical data\n",
      "// Mark the goal use `[]` or `「」`, and make it bold with `**`.\n",
      "// MARK the target and current values of all goals use use `<span style=\"font-weight: 600;\">$VALUE</span>`\n",
      "\n",
      "### 高风险目标分析\n",
      "// [\"提升总交易量 | Increase Total Transactions\", \"提高件单利润 | Improve Average Unit Revenue\"] is high risk goals, conduct risk attribution analysis and development trend analysis on them.\n",
      "// Mark the goal use `[]` or `「」`, and make it bold with `**`.\n",
      "// Mark the target values use `<span style=\"font-weight: 600;\">$VALUE</span>`.\n",
      "// Mark the current values with `<span style=\"color: #c32929; font-weight: 600;\">$VALUE</span>`.\n",
      "\n",
      "### 相关建议\n",
      "// Based on the goal data and the above analysis results, provide effective and executable recommendations to find development opportunities for the team or company.\n",
      "```\n",
      "\n",
      "Begin!\n",
      "123 \n",
      "4\n"
     ]
    }
   ],
   "source": [
    "SUMMARY_GOAL_PROMPT = \"\"\"User:Analyze and summarize the following goals according to the specified format and requirements:\n",
    "\n",
    "```json\n",
    "{\"name\":\"净利润达到去年的1.5倍 | Net Profit Reach 1.5 Times of Last Year\",\"metric\":\"净利润｜Net Profit - Retail\",\"target_value\":\"$5M\",\"current_value\":\"$3.74M\",\"sub_goals\":[{\"name\":\"提升总销售额 | Increase Total Sales\",\"metric\":\"总销售额｜Total Sales - Retail\",\"target_value\":\"$50M\",\"current_value\":\"$34.67M\",\"sub_goals\":[{\"name\":\"提升总交易量 | Increase Total Transactions\",\"metric\":\"总交易量｜Total Transactions - Retail\",\"target_value\":\"20K\",\"current_value\":\"9994\",\"sub_goals\":[{\"name\":\"提高连带率 | Improve Average Basket Size\",\"metric\":\"连带率｜Average Basket Size - Retail\",\"target_value\":\"3\",\"current_value\":\"2\",\"sub_goals\":[],\"historical_data\":{\"metas\":[{\"name\":\"ORDER_DATE\",\"data_type\":\"DATE\"},{\"name\":\"Average Basket Size\",\"data_type\":\"DOUBLE\"}],\"datas\":[[\"2018-12-30\",\"2.0\"],[\"2018-12-29\",\"3.25\"],[\"2018-12-28\",\"3.263157894736842\"],[\"2018-12-27\",\"2.5\"],[\"2018-12-26\",\"2.5\"],[\"2018-12-25\",\"3.0\"],[\"2018-12-24\",\"3.1875\"]]}}],\"historical_data\":{\"metas\":[{\"name\":\"Total Transactions\",\"data_type\":\"BIGINT\"}],\"datas\":[[\"9994\"]]}}],\"historical_data\":{\"metas\":[{\"name\":\"Total Sales\",\"data_type\":\"DOUBLE\"}],\"datas\":[[\"3.467849158328247E7\"]]}},{\"name\":\"提高净利润率 ｜ Improve Net Profit Margin\",\"metric\":\"净利润率｜Net Profit Margin - Retail\",\"target_value\":\"0.2\",\"current_value\":\"0.15\",\"sub_goals\":[{\"name\":\"提高客单利润 | Improve Average Transaction Revenue\",\"metric\":\"客单利润｜Average Transaction Revenue - Retail\",\"target_value\":\"400\",\"current_value\":\"355.31\",\"sub_goals\":[],\"historical_data\":{\"metas\":[{\"name\":\"ORDER_DATE\",\"data_type\":\"DATE\"},{\"name\":\"Average Transaction Revenue\",\"data_type\":\"DOUBLE\"}],\"datas\":[[\"2018-12-30\",\"355.31856427873885\"],[\"2018-12-29\",\"438.21582794189453\"],[\"2018-12-28\",\"370.85315704345703\"],[\"2018-12-27\",\"468.9849967956543\"],[\"2018-12-26\",\"299.8675003051758\"],[\"2018-12-25\",\"295.8552194678265\"],[\"2018-12-24\",\"397.4099998474121\"]]}},{\"name\":\"提高件单利润 | Improve Average Unit Revenue\",\"metric\":\"件单利润｜Average Unit Revenue - Retail\",\"target_value\":\"400\",\"current_value\":\"177.65\",\"sub_goals\":[],\"historical_data\":{\"metas\":[{\"name\":\"ORDER_DATE\",\"data_type\":\"DATE\"},{\"name\":\"Average Unit Revenue\",\"data_type\":\"DOUBLE\"}],\"datas\":[[\"2018-12-30\",\"177.65928213936942\"],[\"2018-12-29\",\"134.83563936673679\"],[\"2018-12-28\",\"113.6485481262207\"],[\"2018-12-27\",\"187.59399871826173\"],[\"2018-12-26\",\"119.9470001220703\"],[\"2018-12-25\",\"98.6184064892755\"],[\"2018-12-24\",\"124.67764701095282\"]]}}],\"historical_data\":{\"metas\":[{\"name\":\"ORDER_DATE\",\"data_type\":\"DATE\"},{\"name\":\"Net Profit Margin\",\"data_type\":\"DOUBLE\"}],\"datas\":[[\"2018-12-30\",\"0.15226701257885053\"],[\"2018-12-29\",\"0.12152101624133606\"],[\"2018-12-28\",\"0.1049904901683477\"],[\"2018-12-27\",\"0.14047313069012737\"],[\"2018-12-26\",\"0.12110243293542682\"],[\"2018-12-25\",\"0.08410361004465777\"],[\"2018-12-24\",\"0.09998325263566901\"]]}}],\"historical_data\":{\"metas\":[{\"name\":\"Net Profit\",\"data_type\":\"DOUBLE\"}],\"datas\":[[\"3747121.199651718\"]]}}\n",
    "```\n",
    "\n",
    "It is necessary to distinguish between positive goals and negative goals in the analysis and summary process!!!\n",
    "\n",
    "Answer Require:\n",
    "- FORBIDDEN to modify or falsify any data, and the data provided in Goal json MUST be used for analysis and summary\n",
    "- Output the report in MARKDOWN format.\n",
    "- Use chinese answer\n",
    "- 每个部分要一步一步详细进行分析，确保你的报告是正确且权威的\n",
    "- %s\n",
    "\n",
    "\n",
    "Answer Format: \n",
    "```markdown \n",
    "## 目标总结报告\n",
    "\n",
    "### 整体进展分析\n",
    "// Make an overall analysis and summary of goal \"净利润达到去年的1.5倍 | Net Profit Reach 1.5 Times of Last Year\" and its sub-goals [\"提升总销售额 | Increase Total Sales\", \"提高净利润率 ｜ Improve Net Profit Margin\"], and judge the development trend based on historical data\n",
    "// Mark the goal use `[]` or `「」`, and make it bold with `**`.\n",
    "// MARK the target and current values of all goals use use `<span style=\"font-weight: 600;\">$VALUE</span>`\n",
    "\n",
    "### 高风险目标分析\n",
    "// [\"提升总交易量 | Increase Total Transactions\", \"提高件单利润 | Improve Average Unit Revenue\"] is high risk goals, conduct risk attribution analysis and development trend analysis on them.\n",
    "// Mark the goal use `[]` or `「」`, and make it bold with `**`.\n",
    "// Mark the target values use `<span style=\"font-weight: 600;\">$VALUE</span>`.\n",
    "// Mark the current values with `<span style=\"color: #c32929; font-weight: 600;\">$VALUE</span>`.\n",
    "\n",
    "### 相关建议\n",
    "// Based on the goal data and the above analysis results, provide effective and executable recommendations to find development opportunities for the team or company.\n",
    "```\n",
    "\n",
    "Begin!\"\"\"\n",
    "\n",
    "USER_REQUIREMENTS = \"\"\"Based on the authoritative opinions of the following experts: \\\n",
    " {requirements}\n",
    "\"\"\"\n",
    "\n",
    "user_requirements = USER_REQUIREMENTS.format(\n",
    "    requirements=\"你的建议需要考虑全面，分成三个方面提出：1.经济方面;2.团队方面;3.成本方面\")\n",
    "\n",
    "final_res = f\"{SUMMARY_GOAL_PROMPT}\" % user_requirements\n",
    "\n",
    "print(final_res)\n",
    "\n",
    "requirements = [\"123\", \"4\"]\n",
    "print(\"\\n\".join(requirements))"
   ],
   "metadata": {
    "collapsed": false,
    "ExecuteTime": {
     "end_time": "2023-11-02T07:58:01.167622Z",
     "start_time": "2023-11-02T07:58:01.158046Z"
    }
   },
   "id": "c78581c80ef32e53"
  },
  {
   "cell_type": "code",
   "execution_count": null,
   "outputs": [],
   "source": [],
   "metadata": {
    "collapsed": false
   },
   "id": "a236a3d506210079"
  },
  {
   "cell_type": "code",
   "execution_count": 24,
   "outputs": [],
   "source": [
    "import json\n",
    "import markdown\n",
    "from IPython.display import display, HTML\n",
    "\n",
    "from byzerllm.utils.retrieval import ByzerRetrieval\n",
    "from byzerllm.records import SearchQuery\n",
    "from byzerllm.utils.client import (\n",
    "    LLMRequest,\n",
    "    ByzerLLM\n",
    ")\n",
    "\n",
    "retrieval = ByzerRetrieval()\n",
    "retrieval.launch_gateway()\n",
    "\n",
    "llm = ByzerLLM()\n",
    "\n",
    "\n",
    "def analyze(s: str):\n",
    "    return llm.apply_sql_func(\n",
    "        \"select mkString(' ', parse(value)) as value\", [{\"value\": s}]\n",
    "    )[\"value\"]\n",
    "\n",
    "\n",
    "def emb(s: str):\n",
    "    return llm.emb(\"emb\", LLMRequest(instruction=s))[0].output"
   ],
   "metadata": {
    "collapsed": false,
    "ExecuteTime": {
     "end_time": "2023-11-02T03:01:02.728420Z",
     "start_time": "2023-11-02T03:01:02.707987Z"
    }
   },
   "id": "77bcd5e5d34c93fe"
  },
  {
   "cell_type": "code",
   "execution_count": 25,
   "outputs": [
    {
     "ename": "AttributeError",
     "evalue": "ClientActorRef has no attribute 'getCluster'",
     "output_type": "error",
     "traceback": [
      "\u001B[0;31m---------------------------------------------------------------------------\u001B[0m",
      "\u001B[0;31mAttributeError\u001B[0m                            Traceback (most recent call last)",
      "Cell \u001B[0;32mIn[25], line 1\u001B[0m\n\u001B[0;32m----> 1\u001B[0m \u001B[43mretrieval\u001B[49m\u001B[38;5;241;43m.\u001B[39;49m\u001B[43msearch\u001B[49m\u001B[43m(\u001B[49m\n\u001B[1;32m      2\u001B[0m \u001B[43m    \u001B[49m\u001B[38;5;124;43m\"\u001B[39;49m\u001B[38;5;124;43mcluster\u001B[39;49m\u001B[38;5;124;43m\"\u001B[39;49m\u001B[43m,\u001B[49m\n\u001B[1;32m      3\u001B[0m \u001B[43m    \u001B[49m\u001B[43m[\u001B[49m\u001B[43mSearchQuery\u001B[49m\u001B[43m(\u001B[49m\n\u001B[1;32m      4\u001B[0m \u001B[43m        \u001B[49m\u001B[38;5;124;43m\"\u001B[39;49m\u001B[38;5;124;43mdb_1\u001B[39;49m\u001B[38;5;124;43m\"\u001B[39;49m\u001B[43m,\u001B[49m\u001B[43m \u001B[49m\u001B[38;5;124;43m\"\u001B[39;49m\u001B[38;5;124;43mcompany_content\u001B[39;49m\u001B[38;5;124;43m\"\u001B[39;49m\u001B[43m,\u001B[49m\n\u001B[1;32m      5\u001B[0m \u001B[43m        \u001B[49m\u001B[43mkeyword\u001B[49m\u001B[38;5;241;43m=\u001B[39;49m\u001B[38;5;124;43m\"\u001B[39;49m\u001B[38;5;124;43mbyzer excel\u001B[39;49m\u001B[38;5;124;43m\"\u001B[39;49m\u001B[43m,\u001B[49m\n\u001B[1;32m      6\u001B[0m \u001B[43m        \u001B[49m\u001B[43mfields\u001B[49m\u001B[38;5;241;43m=\u001B[39;49m\u001B[43m[\u001B[49m\u001B[38;5;124;43m\"\u001B[39;49m\u001B[38;5;124;43mcontent\u001B[39;49m\u001B[38;5;124;43m\"\u001B[39;49m\u001B[43m]\u001B[49m\u001B[43m,\u001B[49m\n\u001B[1;32m      7\u001B[0m \u001B[43m        \u001B[49m\u001B[43mvector\u001B[49m\u001B[38;5;241;43m=\u001B[39;49m\u001B[43m[\u001B[49m\u001B[43m]\u001B[49m\u001B[43m,\u001B[49m\n\u001B[1;32m      8\u001B[0m \u001B[43m        \u001B[49m\u001B[43mvectorField\u001B[49m\u001B[38;5;241;43m=\u001B[39;49m\u001B[38;5;28;43;01mNone\u001B[39;49;00m\u001B[43m,\u001B[49m\n\u001B[1;32m      9\u001B[0m \u001B[43m        \u001B[49m\u001B[43mlimit\u001B[49m\u001B[38;5;241;43m=\u001B[39;49m\u001B[38;5;241;43m10\u001B[39;49m\u001B[43m)\u001B[49m\n\u001B[1;32m     10\u001B[0m \u001B[43m    \u001B[49m\u001B[43m]\u001B[49m\n\u001B[1;32m     11\u001B[0m \u001B[43m)\u001B[49m\n",
      "File \u001B[0;32m~/miniconda3/envs/byzer-llm/lib/python3.10/site-packages/byzerllm/utils/retrieval/__init__.py:178\u001B[0m, in \u001B[0;36mByzerRetrieval.search\u001B[0;34m(self, cluster_name, search_query)\u001B[0m\n\u001B[1;32m    177\u001B[0m \u001B[38;5;28;01mdef\u001B[39;00m \u001B[38;5;21msearch\u001B[39m(\u001B[38;5;28mself\u001B[39m,cluster_name:\u001B[38;5;28mstr\u001B[39m,search_query: Union[List[SearchQuery],SearchQuery]) \u001B[38;5;241m-\u001B[39m\u001B[38;5;241m>\u001B[39m List[Dict[\u001B[38;5;28mstr\u001B[39m,Any]]:        \n\u001B[0;32m--> 178\u001B[0m     cluster \u001B[38;5;241m=\u001B[39m \u001B[38;5;28;43mself\u001B[39;49m\u001B[38;5;241;43m.\u001B[39;49m\u001B[43mcluster\u001B[49m\u001B[43m(\u001B[49m\u001B[43mcluster_name\u001B[49m\u001B[43m)\u001B[49m\n\u001B[1;32m    179\u001B[0m     \u001B[38;5;28;01mif\u001B[39;00m \u001B[38;5;28misinstance\u001B[39m(search_query,SearchQuery):\n\u001B[1;32m    180\u001B[0m         search_query \u001B[38;5;241m=\u001B[39m [search_query]\n",
      "File \u001B[0;32m~/miniconda3/envs/byzer-llm/lib/python3.10/site-packages/byzerllm/utils/retrieval/__init__.py:75\u001B[0m, in \u001B[0;36mByzerRetrieval.cluster\u001B[0;34m(self, name)\u001B[0m\n\u001B[1;32m     72\u001B[0m \u001B[38;5;28;01mif\u001B[39;00m name \u001B[38;5;129;01min\u001B[39;00m \u001B[38;5;28mself\u001B[39m\u001B[38;5;241m.\u001B[39mclusters:\n\u001B[1;32m     73\u001B[0m     \u001B[38;5;28;01mreturn\u001B[39;00m \u001B[38;5;28mself\u001B[39m\u001B[38;5;241m.\u001B[39mclusters[name]\n\u001B[0;32m---> 75\u001B[0m cluster_ref \u001B[38;5;241m=\u001B[39m \u001B[38;5;28;43mself\u001B[39;49m\u001B[38;5;241;43m.\u001B[39;49m\u001B[43mretrieval_gateway\u001B[49m\u001B[38;5;241;43m.\u001B[39;49m\u001B[43mgetCluster\u001B[49m\u001B[38;5;241m.\u001B[39mremote(name)\n\u001B[1;32m     76\u001B[0m \u001B[38;5;66;03m# master_ref.buildFromRayObjectStore.remote(\"db1\",\"table1\",data_refs)\u001B[39;00m\n\u001B[1;32m     77\u001B[0m cluster \u001B[38;5;241m=\u001B[39m ray\u001B[38;5;241m.\u001B[39mget(cluster_ref)\n",
      "File \u001B[0;32m~/miniconda3/envs/byzer-llm/lib/python3.10/site-packages/ray/util/client/common.py:486\u001B[0m, in \u001B[0;36mClientActorHandle.__getattr__\u001B[0;34m(self, key)\u001B[0m\n\u001B[1;32m    484\u001B[0m     \u001B[38;5;28mself\u001B[39m\u001B[38;5;241m.\u001B[39m_init_class_info()\n\u001B[1;32m    485\u001B[0m \u001B[38;5;28;01mif\u001B[39;00m key \u001B[38;5;129;01mnot\u001B[39;00m \u001B[38;5;129;01min\u001B[39;00m \u001B[38;5;28mself\u001B[39m\u001B[38;5;241m.\u001B[39m_method_signatures:\n\u001B[0;32m--> 486\u001B[0m     \u001B[38;5;28;01mraise\u001B[39;00m \u001B[38;5;167;01mAttributeError\u001B[39;00m(\u001B[38;5;124mf\u001B[39m\u001B[38;5;124m\"\u001B[39m\u001B[38;5;124mClientActorRef has no attribute \u001B[39m\u001B[38;5;124m'\u001B[39m\u001B[38;5;132;01m{\u001B[39;00mkey\u001B[38;5;132;01m}\u001B[39;00m\u001B[38;5;124m'\u001B[39m\u001B[38;5;124m\"\u001B[39m)\n\u001B[1;32m    487\u001B[0m \u001B[38;5;28;01mreturn\u001B[39;00m ClientRemoteMethod(\n\u001B[1;32m    488\u001B[0m     \u001B[38;5;28mself\u001B[39m,\n\u001B[1;32m    489\u001B[0m     key,\n\u001B[1;32m    490\u001B[0m     \u001B[38;5;28mself\u001B[39m\u001B[38;5;241m.\u001B[39m_method_num_returns\u001B[38;5;241m.\u001B[39mget(key),\n\u001B[1;32m    491\u001B[0m     \u001B[38;5;28mself\u001B[39m\u001B[38;5;241m.\u001B[39m_method_signatures\u001B[38;5;241m.\u001B[39mget(key),\n\u001B[1;32m    492\u001B[0m )\n",
      "\u001B[0;31mAttributeError\u001B[0m: ClientActorRef has no attribute 'getCluster'"
     ]
    }
   ],
   "source": [
    "retrieval.search(\n",
    "    \"cluster\",\n",
    "    [SearchQuery(\n",
    "        \"db_1\", \"company_content\",\n",
    "        keyword=\"byzer excel\",\n",
    "        fields=[\"content\"],\n",
    "        vector=[],\n",
    "        vectorField=None,\n",
    "        limit=10)\n",
    "    ]\n",
    ")\n",
    "retrieval.cluster(\"cluster\")"
   ],
   "metadata": {
    "collapsed": false,
    "ExecuteTime": {
     "end_time": "2023-11-02T03:01:04.057429Z",
     "start_time": "2023-11-02T03:01:03.818701Z"
    }
   },
   "id": "139a6cee70a8ad9c"
  },
  {
   "cell_type": "code",
   "execution_count": 26,
   "outputs": [
    {
     "data": {
      "text/plain": "<IPython.core.display.HTML object>",
      "text/html": "<h2>目标总结报告</h2>\n<h3>整体进展分析</h3>\n<p><strong>净利润达到去年的1.5倍 | Net Profit Reach 1.5 Times of Last Year</strong> 的目标值为 <span style=\"font-weight: 600;\">$5M</span>，当前值为 <span style=\"font-weight: 600;\">$3.74M</span>。该目标的历史数据显示，公司的净利润在过去一周内波动较大，但总体呈上升趋势。该目标的子目标有两个，分别是 <strong>提升总销售额 | Increase Total Sales</strong> 和 <strong>提高净利润率 ｜ Improve Net Profit Margin</strong>。</p>\n<p><strong>提升总销售额 | Increase Total Sales</strong> 的目标值为 <span style=\"font-weight: 600;\">$50M</span>，当前值为 <span style=\"font-weight: 600;\">$34.67M</span>。该目标的历史数据显示，公司的总销售额在过去一周内波动较大，但总体呈上升趋势。</p>\n<p><strong>提高净利润率 ｜ Improve Net Profit Margin</strong> 的目标值为 0.2，当前值为 0.15。该目标的历史数据显示，公司的净利润率在过去一周内波动较大，但总体呈上升趋势。</p>\n<p>综合来看，公司的净利润和总销售额都有较大的提升空间，而且历史数据显示公司的发展趋势是向好的。</p>\n<h3>高风险目标分析</h3>\n<p><strong>提升总交易量 | Increase Total Transactions</strong> 的目标值为 <span style=\"font-weight: 600;\">20K</span>，当前值为 <span style=\"color: #c32929; font-weight: 600;\">9994</span>。该目标的历史数据显示，公司的总交易量在过去一周内波动较大，且总体呈下降趋势。</p>\n<p><strong>提高件单利润 | Improve Average Unit Revenue</strong> 的目标值为 <span style=\"font-weight: 600;\">$400</span>，当前值为 <span style=\"color: #c32929; font-weight: 600;\">$177.65</span>。该目标的历史数据显示，公司的件单利润在过去一周内波动较大，且总体呈下降趋势。</p>\n<p>综合来看，这两个子目标都存在较大的风险，需要引起重视。历史数据显示，公司的总交易量和件单利润都呈下降趋势，需要及时采取措施进行改善。</p>\n<h3>相关建议</h3>\n<p>基于以上分析结果，我们提出以下建议：</p>\n<ol>\n<li>经济方面：针对高风险目标，公司应该采取措施提高总交易量和件单利润，以提升公司的净利润和总销售额。具体措施包括提高产品质量和服务水平，优化产品价格策略等。</li>\n<li>团队方面：公司应该加强团队协作，提高团队的工作效率和执行力，以确保目标的顺利实现。具体措施包括加强内部沟通和协作，制定明确的工作计划和目标等。</li>\n<li>成本方面：公司应该合理控制成本，降低运营成本和管理成本，以提高公司的盈利能力。具体措施包括优化采购和供应链管理，加强财务管理和预算控制等。</li>\n</ol>"
     },
     "metadata": {},
     "output_type": "display_data"
    }
   ],
   "source": [
    "llm_req = LLMRequest(\n",
    "    instruction=SUMMARY_GOAL_PROMPT,\n",
    ")\n",
    "\n",
    "llm_resp = llm.chat(\"azure_openai16k\", request=llm_req)\n",
    "\n",
    "html_content = markdown.markdown(llm_resp[0].output)\n",
    "\n",
    "display(HTML(html_content))"
   ],
   "metadata": {
    "collapsed": false,
    "ExecuteTime": {
     "end_time": "2023-11-02T03:01:24.621163Z",
     "start_time": "2023-11-02T03:01:07.750485Z"
    }
   },
   "id": "8d9e2fb6f08bd5f6"
  }
 ],
 "metadata": {
  "kernelspec": {
   "display_name": "Python 3",
   "language": "python",
   "name": "python3"
  },
  "language_info": {
   "codemirror_mode": {
    "name": "ipython",
    "version": 2
   },
   "file_extension": ".py",
   "mimetype": "text/x-python",
   "name": "python",
   "nbconvert_exporter": "python",
   "pygments_lexer": "ipython2",
   "version": "2.7.6"
  }
 },
 "nbformat": 4,
 "nbformat_minor": 5
}
